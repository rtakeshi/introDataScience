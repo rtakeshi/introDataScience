{
 "cells": [
  {
   "cell_type": "markdown",
   "metadata": {},
   "source": [
    "# Baltimore StreetFood Example"
   ]
  },
  {
   "cell_type": "markdown",
   "metadata": {},
   "source": [
    "### 1º: Import libraries"
   ]
  },
  {
   "cell_type": "code",
   "execution_count": 57,
   "metadata": {
    "collapsed": true
   },
   "outputs": [],
   "source": [
    "import pandas as pd"
   ]
  },
  {
   "cell_type": "markdown",
   "metadata": {},
   "source": [
    "### 2º: Download file turning it to Pandas DataFrame"
   ]
  },
  {
   "cell_type": "code",
   "execution_count": 58,
   "metadata": {},
   "outputs": [
    {
     "name": "stdout",
     "output_type": "stream",
     "text": [
      "    Id LicenseNum                                         VendorName  \\\n",
      "0    0   DF000166          Abdul-Ghani, Christina, \"The Bullpen Bar\"   \n",
      "1    0   DF000075                                         Ali, Fathi   \n",
      "2    0   DF000133                                         Ali, Fathi   \n",
      "3    0   DF000136                                         Ali, Fathi   \n",
      "4    0   DF000001                                         Ali, Yusuf   \n",
      "5    0   DF000078                                  Amatullah, Maidah   \n",
      "6    0   DF000068                                      Amer, Mohamed   \n",
      "7    0   DF000002                                     Blimline, Lisa   \n",
      "8    0   DF000004                            Paul & Elizabeth Carter   \n",
      "9    0   DF000005                            Paul & Elizabeth Carter   \n",
      "10   0   DF000007                                 Ellenberger, Penny   \n",
      "11   0   DF000006                                     Wheatley, Lisa   \n",
      "12   0   DF000010                                      Isreal, David   \n",
      "13   0   DF000012                               Kastanakis, Theodore   \n",
      "14   0   DF000014                                Kouloumbre, Iaonnis   \n",
      "15   0   DF000019                          Marangos, Toula & Filipos   \n",
      "16   0   DF000020                                  Markiewicz, Robin   \n",
      "17   0   DF000022                              Papastefanou, Stanley   \n",
      "18   0   DF000026                                      Rouse, Donald   \n",
      "19   0   DF000027                                      Rouse, Donald   \n",
      "20   0   DF000032                                    Shiflett, Roger   \n",
      "21   0   DF000034                                     Solomon, Damon   \n",
      "22   0   DF000035                                     Solomon, Damon   \n",
      "23   0   DF000036                                  Stansbury, Joseph   \n",
      "24   0   DF000037                                       Reid, Gloria   \n",
      "25   0   DF000039                                   Wheatley, Vinnie   \n",
      "26   0   DF000041                                    Lerman, Abraham   \n",
      "27   0   DF000043                                    Bamba, Youssouf   \n",
      "28   0   DF000046               Mazouz, Abdelkarim & Argoum, Mohamed   \n",
      "29   0   DF000047                            Hynson, Jr., Raymond C.   \n",
      "..  ..        ...                                                ...   \n",
      "47   0   DF000127                                    Azzouni, Jaafer   \n",
      "48   0   DF000132                                    Roberts, Melvin   \n",
      "49   0   DF000135  Diakgeorgiou, Euthoxia t/a \"Georgey Dee's Food...   \n",
      "50   0   DF000153                 Winfield, Brian   \"Hollywood Dogs\"   \n",
      "51   0   DF000174                                      Holmes, Robin   \n",
      "52   0   DF000190                                      Rouse, Donald   \n",
      "53   0   OF000001                                    Strunk, Kum Cha   \n",
      "54   0   OF000002                                    Strunk, Kum Cha   \n",
      "55   0   OF000008                                   Johnson, Antoine   \n",
      "56   0   OF000014                         Saldana, Maria Teresa Luna   \n",
      "57   0   OF000015                                      Canty, Albert   \n",
      "58   0   OF000016                                       Hummel, Gary   \n",
      "59   0   OF000019                             Polychronis, Aristides   \n",
      "60   0   OF000020                            Jarava, Edgar & Gustavo   \n",
      "61   0   OF000021                            Jarava, Edgar & Gustavo   \n",
      "62   0   OF000022                            Jarava, Edgar & Gustava   \n",
      "63   0   OF000023                                       Hummel, Gary   \n",
      "64   0   OF000025                                     McCoy, Patrice   \n",
      "65   0   OF000040                                       Barr, Nomiki   \n",
      "66   0   OF000043                                 Gilliam, Gwendolyn   \n",
      "67   0   OF000046                                Elmonir, Elsayed M.   \n",
      "68   0   OF000049                                     Lewis, Cynthia   \n",
      "69   0   OF000050                                     Parrott, Aaron   \n",
      "70   0   OF000051         Vasquez, Emenegildo \" Vasquez Fresh Fruit\"   \n",
      "71   0   OF000053                                      Johns, Farley   \n",
      "72   0   OF000054               Guzman, Irma  \"Irma's Best Hot Dogs\"   \n",
      "73   0   OF000055                                    Azzouni, Jaafer   \n",
      "74   0   OF000056                  Bethea, Anthony \"Biggs Food Cart\"   \n",
      "75   0   OF000060                                       Brown, April   \n",
      "76   0   OF000061                                      Arlene Gordon   \n",
      "\n",
      "                                           VendorAddr  \\\n",
      "0   508 Washington Blvd, confined within 10 x 10 s...   \n",
      "1                    SEC Calvert & Madison on Calvert   \n",
      "2                            NEC Baltimore & Pine Sts   \n",
      "3                             NEC Light & Redwood Sts   \n",
      "4   On Hamburg St across from the rear end of the ...   \n",
      "5                             NWC Charles & Chase Sts   \n",
      "6                            SEC Lombard & Light Sts.   \n",
      "7             SW Ostend St & Sharp (Under the bridge)   \n",
      "8                               SWC Washington & Paca   \n",
      "9   NEC Ostend & Ridgely on Ostend (along fence on...   \n",
      "10                              Ridgely & Ostend Sts.   \n",
      "11  Conway & Howard St. behind Convention Ctr, on ...   \n",
      "12                     ES of Howard St near Camden St   \n",
      "13                                 NEC Redwood/Greene   \n",
      "14                           NWC Baltimore & Arch St.   \n",
      "15                           NWC of St Paul & Fayette   \n",
      "16  SEC Pratt & Howard, next to the Convention Center   \n",
      "17  SS of Baltimore St, approx. 75' west of Green ...   \n",
      "18  Howard St @ Corner of Convention Center Pratt ...   \n",
      "19                 Corner of 1300 Warner & Ostend St.   \n",
      "20  NEC Lee St/400-500 block (between the two pole...   \n",
      "21       On the island between Paca & Washington Blvd   \n",
      "22  200 W Conway & Sharp Sts behind the convention...   \n",
      "23                              NWC Lexington & Davis   \n",
      "24               Eastside Howard St/South of Pratt St   \n",
      "25    Conway & Howard St behind the Convention Center   \n",
      "26                             NEC Eutaw & Pratt Sts.   \n",
      "27                                  Hamburg & Russell   \n",
      "28               SWC Charles & Baltimore on Baltimore   \n",
      "29                                NEC Howard & Conway   \n",
      "..                                                ...   \n",
      "47  NWC Market Pl & Lombard, to be on Market, mid-...   \n",
      "48     NS corner Howard & Camden (in middle of block)   \n",
      "49                             NWC Calvert & Saratoga   \n",
      "50                      NWC Holliday & lexington Sts.   \n",
      "51                      NWC Water St & S Frederick St   \n",
      "52  on Hamburg St between the Stadiums, during bas...   \n",
      "53                                     SE 700 West St   \n",
      "54                     NW W Camden, Washington & Paca   \n",
      "55                          800 Blk. Linden & Madison   \n",
      "56                              2803 Hawkins Point RD   \n",
      "57                         NWC MLK Blvd & W Baltimore   \n",
      "58                                33rd & Calvert Sts.   \n",
      "59                               NEC Wolfe & Monument   \n",
      "60                             NEC Rutland & Monument   \n",
      "61                       NEC Broadway & Jefferson St.   \n",
      "62                         SEC Wolfe & McElderry Sts.   \n",
      "63                              3100 Wyman Park Drive   \n",
      "64                          1800 Blk. of Monument St.   \n",
      "65  900 Blk. W. Baltimore St, NS of street, middle...   \n",
      "66         West Side of the 1600 Block St Paul Street   \n",
      "67                              SWC Maryland & Oliver   \n",
      "68                             SWC Pratt & Carrollton   \n",
      "69                                    NEC Gay & Front   \n",
      "70     3900 Block of E Monument, north side of street   \n",
      "71                                 Belvedere & Lanier   \n",
      "72                             NS Fleet, NEC Broadway   \n",
      "73  3500 Blk of N Calvert @ corner of University P...   \n",
      "74                             SWC of Joh & Caton Ave   \n",
      "75  SWC Greenmount & North Ave, to be on North Ave...   \n",
      "76  2300 Garrison Blvd, NWC, at the Garwyn Medical...   \n",
      "\n",
      "                                            ItemsSold  \\\n",
      "0         Grilled food, pizza slices, gyro sandwiches   \n",
      "1     Hot Dogs, Sausage, Snacks, Gum, Candies, Drinks   \n",
      "2     Hot dogs, Sausage, drinks, snacks, gum, & candy   \n",
      "3      Hot dogs, sausages, chips, snacks, drinks, gum   \n",
      "4   Large & Small beef franks, soft drinks, water,...   \n",
      "5                              Hot dogs, Sodas, Chips   \n",
      "6   Hot dogs, Sausages, Prepackaged snacks, Sodas,...   \n",
      "7                   Hot dogs, snacks, coffee and soda   \n",
      "8   Hot Dogs, Burgers, Sausage, Chips, Soda, Water...   \n",
      "9   Hot Dogs, Burgers, Sausage, Chips, Soda, Water...   \n",
      "10                  Hot dogs, hamburgers, soda, water   \n",
      "11                  Peanuts, Pistachios, Water & Soda   \n",
      "12                   Hot dogs, sodas, peanuts & chips   \n",
      "13                             Hot dogs, chips, sodas   \n",
      "14                            Hot dogs, chips & sodas   \n",
      "15                             Hot dogs, sodas, chips   \n",
      "16                     bottled water, soda & gatorade   \n",
      "17                     Hot dogs, chips, sodas & candy   \n",
      "18                          Hot dogs, sodas & peanuts   \n",
      "19                          Hot dogs, sodas & peanuts   \n",
      "20  nuts & confections, hot dogs,burgers,& tenders...   \n",
      "21                    soda, water, peanuts & hot dogs   \n",
      "22                    soda, water, peanuts & hot dogs   \n",
      "23                         Produce, fruit, vegetables   \n",
      "24                                     Peanuts, sodas   \n",
      "25  hot dogs, italian sausages, hamburgers, peanut...   \n",
      "26                          hot dogs, peanuts & sodas   \n",
      "27             Hot dogs, sodas, peanuts, chips, water   \n",
      "28         Beef hot dogs, chicken kabobs, soda, chips   \n",
      "29               Soda, water,peanuts, sunflower seeds   \n",
      "..                                                ...   \n",
      "47  Chicken or lamb over rice, wraps & sandwiches,...   \n",
      "48  Assorted nuts, soda, water, Gatorade, cooked food   \n",
      "49  Grilled hot dogs, burgers, chicken sandwiches,...   \n",
      "50  Hot dogs, chips, candy, bottled water, canned ...   \n",
      "51                     Hot Dogs, Sodas, Waters, Chips   \n",
      "52                          water, drinks and peanuts   \n",
      "53                           Water, peanuts, hot dogs   \n",
      "54                                    Water & peanuts   \n",
      "55  Hot dogs, burgers, subs, soda, chips, water, c...   \n",
      "56           Mexican Food, Sodas, Water, Coffee,Chips   \n",
      "57                                        Water, Soda   \n",
      "58                              Hot dogs, Chips, Soda   \n",
      "59            Gyro Sandwiches, Hot Dogs, Chips, Sodas   \n",
      "60   Hot dogs, Chips, Sodas,Cookies, Snowballs, Juice   \n",
      "61  Hot dogs, Chips, Sodas, Cookies, Snowballs, Juice   \n",
      "62  Hot dogs, Chips, Sodas, Cookies, Snowballs, Juice   \n",
      "63                              Hot Dogs, Soda, Chips   \n",
      "64  Hot Dogs, Polish, Potato Chips, Soda, Juice, C...   \n",
      "65                  Hot dogs, hamburgers, chips, soda   \n",
      "66           Hot & Cold Beverages, Packaged Snacks, &   \n",
      "67  Hot dogs, chicken, lamb, rice, gyros, chips, s...   \n",
      "68  hot dogs, chili & cheese, popcorn, coffee, tea...   \n",
      "69                 Hot Dogs, Drinks, Snacks, Sausages   \n",
      "70  Mango, pineapple, strawberry, melon, cane, avo...   \n",
      "71  hot dogs, chips, cookies, candy, packaged good...   \n",
      "72  Hot dogs, Polish sausage, sodas, chips, juices...   \n",
      "73  Mediterranean wraps & sandwiches, chicken or b...   \n",
      "74  Hot dogs, chips, cookies, soda, water, juice, ...   \n",
      "75              Hot Dogs, Snacks, Soda & Water, Candy   \n",
      "76  Hot Dogs, Hamburgers, Chips, Candy, Gum, Soda,...   \n",
      "\n",
      "                                           Cart_Descr  St  \\\n",
      "0   Two add'l tables to be added to current 6' tab...  MD   \n",
      "1                                            Pushcart  MD   \n",
      "2                                            Pushcart  MD   \n",
      "3                                            Pushcart  MD   \n",
      "4                       grey pushcart on three wheels  MD   \n",
      "5                pushcart with hot/cold running water  MD   \n",
      "6                                        Hot dog cart  MD   \n",
      "7               2 Carts on wheels, 4 tables on wheels  MD   \n",
      "8                                Hot Dog Cart & Grill  MD   \n",
      "9                                Hot Dog Cart & Grill  MD   \n",
      "10                                   Pushcart & table  MD   \n",
      "11                             3 x 4 table, 2 coolers  MD   \n",
      "12                                       Hot dog cart  MD   \n",
      "13                       stainless steel hot dog cart  MD   \n",
      "14                       Stainless steel hot dog cart  MD   \n",
      "15                       Stainless steel hot dog cart  MD   \n",
      "16                    pushcart - metal cart & dollies  MD   \n",
      "17                       stainless steel hot dog cart  MD   \n",
      "18  wagon, standard 3' x 6' table w/extensions not...  MD   \n",
      "19  wagon, standard 3' x 6' table w/extensions not...  MD   \n",
      "20  orange pushcart w/totes & wheels for drinks ta...  MD   \n",
      "21  Plastic cart w/wheels, 3 shelf metal pushcart ...  MD   \n",
      "22  Plastic cart w/wheels, 3 shelf metal pushcart ...  MD   \n",
      "23                                       pickup truck  MD   \n",
      "24                                         1-6' table  MD   \n",
      "25                                hot dog cart, table  MD   \n",
      "26                                           Handcart  MD   \n",
      "27                                       Hot dog cart  MD   \n",
      "28                                           Pushcart  MD   \n",
      "29                                    3x6 brown table  MD   \n",
      "..                                                ...  ..   \n",
      "47                                           pushcart  MD   \n",
      "48                                2 coolers, pushcart  MD   \n",
      "49                                           pushcart  MD   \n",
      "50                                           Pushcart  MD   \n",
      "51                                        Hotdog Cart  MD   \n",
      "52                                              table  MD   \n",
      "53                                      one table 6x3  MD   \n",
      "54                                      one table 6x3  MD   \n",
      "55                                           pushcart  MD   \n",
      "56                                   Mobile Cart Unit  MD   \n",
      "57                                  6' table & cooler  MD   \n",
      "58                                           Pushcart  MD   \n",
      "59                                           Pushcart  MD   \n",
      "60                       Stainless steel hot dog cart  MD   \n",
      "61                       Stainless steel hot dog cart  MD   \n",
      "62                       Stainless steel hot dog cart  MD   \n",
      "63                                       Hot dog cart  MD   \n",
      "64                                           Pushcart  MD   \n",
      "65                                           Pushcart  MD   \n",
      "66                                           Handcart  MD   \n",
      "67                                           Pushcart  MD   \n",
      "68                                       hot dog cart  MD   \n",
      "69                   2 1/2\" x 3 1/2\" Compact pushcart  MD   \n",
      "70                                      6' x 3' table  MD   \n",
      "71                                           pushcart  MD   \n",
      "72                                       hot dog cart  MD   \n",
      "73                                           Pushcart  MD   \n",
      "74                                           pushcart  MD   \n",
      "75                  Hot Dog Cart & 1 cooler on wheels  MD   \n",
      "76                         Pushcart, Cooler on wheels  MD   \n",
      "\n",
      "                                           Location 1  \n",
      "0     Towson 21204\\n(39.28540000000, -76.62260000000)  \n",
      "1   Owings Mill 21117\\n(39.29860000000, -76.612800...  \n",
      "2   Owings Mill 21117\\n(39.28920000000, -76.626700...  \n",
      "3   Owings Mill 21117\\n(39.28870000000, -76.613600...  \n",
      "4   Baltimore 21239\\n(39.27920000000, -76.62200000...  \n",
      "5   Baltimore 21244\\n(39.30250000000, -76.61610000...  \n",
      "6   Baltimore 21206\\n(39.28760000000, -76.61350000...  \n",
      "7   Baltimore 21236\\n(39.27520000000, -76.62030000...  \n",
      "8   Baltimore 21217\\n(39.28530000000, -76.62270000...  \n",
      "9   Baltimore 21217\\n(39.27720000000, -76.62650000...  \n",
      "10  Baltimore 21205\\n(39.27710000000, -76.62690000...  \n",
      "11    Laurel 20723\\n(39.28420000000, -76.61890000000)  \n",
      "12  Randallstown 21133\\n(39.28530000000, -76.61900...  \n",
      "13  Baltimore 21224\\n(39.28860000000, -76.62360000...  \n",
      "14  Baltimore 21224\\n(39.28920000000, -76.62530000...  \n",
      "15  Baltimore 21224\\n(39.29050000000, -76.61400000...  \n",
      "16  Baltimore 21212\\n(39.28620000000, -76.61910000...  \n",
      "17  Baltimore 21237\\n(39.28730000000, -76.62500000...  \n",
      "18  Baltimore 21218\\n(39.28610000000, -76.61900000...  \n",
      "19  Baltimore 21218\\n(39.27650000000, -76.62400000...  \n",
      "20  Baltimore 21230\\n(39.28200000000, -76.62090000...  \n",
      "21  Baltimore 21202\\n(39.28520000000, -76.62280000...  \n",
      "22  Baltimore 21202\\n(39.28430000000, -76.61780000...  \n",
      "23  Baltimore 21201\\n(39.29130000000, -76.61200000...  \n",
      "24  Baltimore 21244\\n(39.28620000000, -76.61890000...  \n",
      "25    Laurel 20723\\n(39.28420000000, -76.61880000000)  \n",
      "26  Owings Mill 21117\\n(39.28640000000, -76.620600...  \n",
      "27  Baltimore 21217\\n(39.28000000000, -76.62410000...  \n",
      "28  Baltimore 21224\\n(39.28950000000, -76.61530000...  \n",
      "29  Glen Burnie 21060\\n(39.28430000000, -76.618900...  \n",
      "..                                                ...  \n",
      "47  Windsor Mill 21244\\n(39.28820000000, -76.60700...  \n",
      "48  Baltimore 21212\\n(39.28540000000, -76.61900000...  \n",
      "49  Baltimore 21221\\n(39.29250000000, -76.61260000...  \n",
      "50  Baltimore 21239\\n(39.29140000000, -76.61040000...  \n",
      "51  Pikesville 21208\\n(39.28880000000, -76.6081000...  \n",
      "52  Baltimore 21218\\n(39.27930000000, -76.62250000...  \n",
      "53  Baltimore 21224\\n(39.27800000000, -76.62620000...  \n",
      "54  Baltimore 21224\\n(39.28560000000, -76.62230000...  \n",
      "55  Edgewood 21040\\n(39.29850000000, -76.62110000000)  \n",
      "56  Baltimore 21227\\n(39.20270000000, -76.55870000...  \n",
      "57  Baltimore 21230\\n(39.28910000000, -76.62820000...  \n",
      "58  Baltimore 21221\\n(39.32840000000, -76.61360000...  \n",
      "59  Baltimore 21237\\n(39.29860000000, -76.59100000...  \n",
      "60  Baltimore 21213\\n(39.29850000000, -76.59210000...  \n",
      "61  Baltimore 21213\\n(39.29640000000, -76.59390000...  \n",
      "62  Baltimore 21213\\n(39.29730000000, -76.59070000...  \n",
      "63  Baltimore 21221\\n(39.32520000000, -76.62200000...  \n",
      "64  Baltimore 21213\\n(39.29850000000, -76.59190000...  \n",
      "65  Pasadena 21122\\n(39.28890000000, -76.63260000000)  \n",
      "66    Towson 21204\\n(39.30720000000, -76.61480000000)  \n",
      "67  Baltimore 21211\\n(39.30650000000, -76.61770000...  \n",
      "68  Baltimore 21201\\n(39.28560000000, -76.63670000...  \n",
      "69    Laurel 20707\\n(39.29330000000, -76.60780000000)  \n",
      "70  Rosedale 21237\\n(39.29980000000, -76.56500000000)  \n",
      "71  Baltimore 21215\\n(39.35320000000, -76.66470000...  \n",
      "72  Baltimore 21224\\n(39.28470000000, -76.59320000...  \n",
      "73  Windsor Mill 21244\\n(39.33050000000, -76.61490...  \n",
      "74  Baltimore 21229\\n(39.25990000000, -76.66540000...  \n",
      "75  Baltimore 21229\\n(39.31110000000, -76.60970000...  \n",
      "76  Pikesville 21208\\n(39.31440000000, -76.6770000...  \n",
      "\n",
      "[77 rows x 8 columns]\n"
     ]
    }
   ],
   "source": [
    "url = \"https://data.baltimorecity.gov/api/views/bqw3-z52q/rows.csv\"\n",
    "dfVendors = pd.read_csv(url)\n",
    "print(dfVendors)"
   ]
  },
  {
   "cell_type": "markdown",
   "metadata": {},
   "source": [
    "### 3º: Eliminating unusable variables"
   ]
  },
  {
   "cell_type": "markdown",
   "metadata": {},
   "source": [
    "If you check dfVendors DataFrame, there will be some unmeaningful variables like 'Id' and 'St'. So you can remove it."
   ]
  },
  {
   "cell_type": "code",
   "execution_count": 59,
   "metadata": {
    "scrolled": false
   },
   "outputs": [
    {
     "name": "stdout",
     "output_type": "stream",
     "text": [
      "   Id  St\n",
      "0   0  MD\n",
      "1   0  MD\n",
      "2   0  MD\n",
      "3   0  MD\n",
      "4   0  MD\n"
     ]
    }
   ],
   "source": [
    "print(dfVendors[[\"Id\", \"St\"]].head())"
   ]
  },
  {
   "cell_type": "code",
   "execution_count": 60,
   "metadata": {
    "scrolled": true
   },
   "outputs": [
    {
     "name": "stdout",
     "output_type": "stream",
     "text": [
      "Index(['LicenseNum', 'VendorName', 'VendorAddr', 'ItemsSold', 'Cart_Descr',\n",
      "       'Location 1'],\n",
      "      dtype='object')\n"
     ]
    }
   ],
   "source": [
    "del dfVendors['Id']\n",
    "del dfVendors['St']\n",
    "print(dfVendors.columns)"
   ]
  },
  {
   "cell_type": "markdown",
   "metadata": {
    "collapsed": true
   },
   "source": [
    "### 4º: Changing Variable Name"
   ]
  },
  {
   "cell_type": "markdown",
   "metadata": {},
   "source": [
    "Using Data Frame rename method:"
   ]
  },
  {
   "cell_type": "code",
   "execution_count": 61,
   "metadata": {},
   "outputs": [
    {
     "name": "stdout",
     "output_type": "stream",
     "text": [
      "Index(['LicenseNum', 'VendorName', 'VendorAddr', 'ItemsSold', 'Cart_Descr',\n",
      "       'Location'],\n",
      "      dtype='object')\n"
     ]
    }
   ],
   "source": [
    "dfVendors = dfVendors.rename(columns={'Location 1': 'Location'})\n",
    "print(dfVendors.columns)"
   ]
  },
  {
   "cell_type": "markdown",
   "metadata": {},
   "source": [
    "### 5º: Extracting Latitude and Longitude from Location"
   ]
  },
  {
   "cell_type": "markdown",
   "metadata": {},
   "source": [
    "Spliting and Replacing Strings to Create Lat and Long variables"
   ]
  },
  {
   "cell_type": "code",
   "execution_count": 62,
   "metadata": {
    "collapsed": true
   },
   "outputs": [],
   "source": [
    "a = dfVendors['Location'].str.split('\\n', expand=True)\n",
    "a = a[1].str.split(', ', expand=True)\n",
    "lat = a[0].str.replace('(', '')\n",
    "long = a[1].str.replace(')', '')\n",
    "dfVendors['lat'] = lat\n",
    "dfVendors['long'] = long"
   ]
  },
  {
   "cell_type": "code",
   "execution_count": 63,
   "metadata": {},
   "outputs": [
    {
     "name": "stdout",
     "output_type": "stream",
     "text": [
      "                                            Location             lat  \\\n",
      "0    Towson 21204\\n(39.28540000000, -76.62260000000)  39.28540000000   \n",
      "1  Owings Mill 21117\\n(39.29860000000, -76.612800...  39.29860000000   \n",
      "2  Owings Mill 21117\\n(39.28920000000, -76.626700...  39.28920000000   \n",
      "3  Owings Mill 21117\\n(39.28870000000, -76.613600...  39.28870000000   \n",
      "4  Baltimore 21239\\n(39.27920000000, -76.62200000...  39.27920000000   \n",
      "\n",
      "              long  \n",
      "0  -76.62260000000  \n",
      "1  -76.61280000000  \n",
      "2  -76.62670000000  \n",
      "3  -76.61360000000  \n",
      "4  -76.62200000000  \n"
     ]
    }
   ],
   "source": [
    "print(dfVendors[[\"Location\", \"lat\", \"long\"]].head())"
   ]
  },
  {
   "cell_type": "markdown",
   "metadata": {},
   "source": [
    "### 6º: Hot Dogs and Pizza in Baltimore"
   ]
  },
  {
   "cell_type": "markdown",
   "metadata": {},
   "source": [
    "How to check which vendor sells Hot Dogs in Baltimore?"
   ]
  },
  {
   "cell_type": "code",
   "execution_count": 64,
   "metadata": {},
   "outputs": [
    {
     "name": "stdout",
     "output_type": "stream",
     "text": [
      "                                           ItemsSold  hotdog\n",
      "0        Grilled food, pizza slices, gyro sandwiches   False\n",
      "1    Hot Dogs, Sausage, Snacks, Gum, Candies, Drinks    True\n",
      "2    Hot dogs, Sausage, drinks, snacks, gum, & candy    True\n",
      "3     Hot dogs, sausages, chips, snacks, drinks, gum    True\n",
      "4  Large & Small beef franks, soft drinks, water,...   False\n"
     ]
    }
   ],
   "source": [
    "dfVendors[\"hotdog\"] = dfVendors[\"ItemsSold\"].str.contains(\"hot dog\", case=False)\n",
    "print(dfVendors[[\"ItemsSold\", \"hotdog\"]].head())"
   ]
  },
  {
   "cell_type": "code",
   "execution_count": 65,
   "metadata": {},
   "outputs": [
    {
     "name": "stdout",
     "output_type": "stream",
     "text": [
      "                                           ItemsSold  pizza\n",
      "0        Grilled food, pizza slices, gyro sandwiches   True\n",
      "1    Hot Dogs, Sausage, Snacks, Gum, Candies, Drinks  False\n",
      "2    Hot dogs, Sausage, drinks, snacks, gum, & candy  False\n",
      "3     Hot dogs, sausages, chips, snacks, drinks, gum  False\n",
      "4  Large & Small beef franks, soft drinks, water,...  False\n"
     ]
    }
   ],
   "source": [
    "dfVendors[\"pizza\"] = dfVendors[\"ItemsSold\"].str.contains(\"pizza\", case=False)\n",
    "print(dfVendors[[\"ItemsSold\", \"pizza\"]].head())"
   ]
  },
  {
   "cell_type": "markdown",
   "metadata": {},
   "source": [
    "### 7º Getting city names"
   ]
  },
  {
   "cell_type": "markdown",
   "metadata": {},
   "source": [
    "Extract city names by using str.extract method"
   ]
  },
  {
   "cell_type": "code",
   "execution_count": 66,
   "metadata": {},
   "outputs": [
    {
     "name": "stdout",
     "output_type": "stream",
     "text": [
      "                                            Location         city\n",
      "0    Towson 21204\\n(39.28540000000, -76.62260000000)       Towson\n",
      "1  Owings Mill 21117\\n(39.29860000000, -76.612800...  Owings Mill\n",
      "2  Owings Mill 21117\\n(39.28920000000, -76.626700...  Owings Mill\n",
      "3  Owings Mill 21117\\n(39.28870000000, -76.613600...  Owings Mill\n",
      "4  Baltimore 21239\\n(39.27920000000, -76.62200000...    Baltimore\n"
     ]
    }
   ],
   "source": [
    "city = dfVendors['Location'].str.extract('([a-zA-Z ]+)', expand=False).str.strip()\n",
    "dfVendors[\"city\"] = city\n",
    "print(dfVendors[[\"Location\", \"city\"]].head())"
   ]
  }
 ],
 "metadata": {
  "kernelspec": {
   "display_name": "Python 3",
   "language": "python",
   "name": "python3"
  },
  "language_info": {
   "codemirror_mode": {
    "name": "ipython",
    "version": 3
   },
   "file_extension": ".py",
   "mimetype": "text/x-python",
   "name": "python",
   "nbconvert_exporter": "python",
   "pygments_lexer": "ipython3",
   "version": "3.5.2"
  }
 },
 "nbformat": 4,
 "nbformat_minor": 2
}
